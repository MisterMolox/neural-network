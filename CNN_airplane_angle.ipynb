{
 "cells": [
  {
   "cell_type": "code",
   "execution_count": 14,
   "metadata": {},
   "outputs": [],
   "source": [
    "from keras.models import Sequential\n",
    "from keras.layers.convolutional import Conv2D\n",
    "from keras.layers.convolutional import MaxPooling2D\n",
    "from keras.layers.core import Activation\n",
    "from keras.layers.core import Flatten\n",
    "from keras.layers.core import Dense\n",
    "from keras.layers.core import Dropout\n",
    "from keras.datasets import mnist\n",
    "from keras.utils import np_utils\n",
    "from keras.optimizers import SGD, RMSprop, Adam\n",
    "import numpy as np\n",
    "from numpy import genfromtxt\n",
    "from scipy import misc\n",
    "import matplotlib.pyplot as plt"
   ]
  },
  {
   "cell_type": "code",
   "execution_count": 85,
   "metadata": {},
   "outputs": [],
   "source": [
    "class LeNet: \n",
    "    @staticmethod\n",
    "    def build(input_shape, classes):\n",
    "        model = Sequential()\n",
    "        model.add(Conv2D(60, kernel_size = 7, padding = 'same', input_shape = input_shape ))\n",
    "        model.add(Activation(\"relu\"))\n",
    "        model.add(MaxPooling2D(pool_size = (2, 2), strides = (2,2)))\n",
    "        model.add(Dropout(0.2))\n",
    "        \n",
    "        model.add(Conv2D(180, kernel_size = 5, border_mode = 'same'))\n",
    "        model.add(Activation(\"relu\"))\n",
    "        model.add(MaxPooling2D(pool_size = (2, 2), strides = (2,2)))\n",
    "        model.add(Dropout(0.25))\n",
    "    \n",
    "        model.add(Flatten())\n",
    "        model.add(Dense(500))\n",
    "        model.add(Activation(\"relu\"))\n",
    "        model.add(Dropout(0.5))\n",
    "        model.add(Dense(classes))\n",
    "        model.add(Activation(\"softmax\"))\n",
    "        model.summary()\n",
    "        \n",
    "        return model"
   ]
  },
  {
   "cell_type": "code",
   "execution_count": 84,
   "metadata": {},
   "outputs": [],
   "source": [
    "NB_EPOCH = 20\n",
    "BATCH_SIZE = 200\n",
    "VERBOSE = 1\n",
    "OPTIMIZER = Adam()\n",
    "VALIDATION_SPLIT = 0.2\n",
    "IMG_ROWS, IMG_COLS, IMG_CHANNELS = 64, 64, 1\n",
    "NB_CLASSES = 361\n",
    "INPUT_SHAPE = (IMG_ROWS, IMG_COLS, IMG_CHANNELS)"
   ]
  },
  {
   "cell_type": "code",
   "execution_count": 82,
   "metadata": {},
   "outputs": [
    {
     "name": "stderr",
     "output_type": "stream",
     "text": [
      "c:\\users\\user\\appdata\\local\\programs\\python\\python36\\lib\\site-packages\\ipykernel_launcher.py:11: DeprecationWarning: `imread` is deprecated!\n",
      "`imread` is deprecated in SciPy 1.0.0, and will be removed in 1.2.0.\n",
      "Use ``imageio.imread`` instead.\n",
      "  # This is added back by InteractiveShellApp.init_path()\n"
     ]
    }
   ],
   "source": [
    "Train = 32756\n",
    "direct = 'C:\\\\Users\\\\User\\\\Desktop\\\\oriented_plane_patches\\\\train\\\\0'\n",
    "\n",
    "X_train = []\n",
    "for i in range(Train):\n",
    "    name = str(i)\n",
    "    l = len(name)\n",
    "    for j in range(5-l):\n",
    "        name = '0' + name\n",
    "    name = name + '.png'\n",
    "    X_train.append((misc.imread(direct+name)).dot([0.299, 0.587, 0.114]))\n",
    "    \n",
    "X_train = np.array(X_train)\n",
    "X_train = X_train.astype('float32')\n",
    "X_train /= 255\n",
    "X_train = X_train[:, :, :, np.newaxis]"
   ]
  },
  {
   "cell_type": "code",
   "execution_count": 83,
   "metadata": {},
   "outputs": [
    {
     "name": "stderr",
     "output_type": "stream",
     "text": [
      "c:\\users\\user\\appdata\\local\\programs\\python\\python36\\lib\\site-packages\\ipykernel_launcher.py:11: DeprecationWarning: `imread` is deprecated!\n",
      "`imread` is deprecated in SciPy 1.0.0, and will be removed in 1.2.0.\n",
      "Use ``imageio.imread`` instead.\n",
      "  # This is added back by InteractiveShellApp.init_path()\n"
     ]
    }
   ],
   "source": [
    "Test = 1055\n",
    "direct = 'C:\\\\Users\\\\User\\\\Desktop\\\\oriented_plane_patches\\\\test\\\\0'\n",
    "\n",
    "X_test = []\n",
    "for i in range(Test):\n",
    "    name = str(i)\n",
    "    l = len(name)\n",
    "    for j in range(5-l):\n",
    "        name = '0' + name\n",
    "    name = name + '.png'\n",
    "    X_test.append((misc.imread(direct+name)).dot([0.299, 0.587, 0.114]))\n",
    "    \n",
    "X_test = np.array(X_test)\n",
    "X_test = X_test.astype('float32')\n",
    "X_test /= 255\n",
    "X_test = X_test[:, :, :, np.newaxis]"
   ]
  },
  {
   "cell_type": "code",
   "execution_count": 59,
   "metadata": {},
   "outputs": [],
   "source": [
    "direct = 'C:\\\\Users\\\\User\\\\Desktop\\\\oriented_plane_patches\\\\train\\\\'\n",
    "answer = 'labels.csv'\n",
    "Y_train = genfromtxt(direct + answer,usecols=[1], delimiter=',')\n",
    "#Y_train *= 10\n",
    "Y_train = Y_train.astype('int')\n",
    "Y_train = np_utils.to_categorical(Y_train, NB_CLASSES)"
   ]
  },
  {
   "cell_type": "code",
   "execution_count": 52,
   "metadata": {},
   "outputs": [],
   "source": [
    "direct = 'C:\\\\Users\\\\User\\\\Desktop\\\\oriented_plane_patches\\\\test\\\\'\n",
    "answer = 'labels.csv'\n",
    "Y_test = genfromtxt(direct + answer,usecols=[1], delimiter=',')\n",
    "#Y_test *= 10\n",
    "Y_test = Y_test.astype('int')\n",
    "Y_test = np_utils.to_categorical(Y_test, NB_CLASSES)"
   ]
  },
  {
   "cell_type": "code",
   "execution_count": null,
   "metadata": {
    "scrolled": false
   },
   "outputs": [
    {
     "name": "stderr",
     "output_type": "stream",
     "text": [
      "c:\\users\\user\\appdata\\local\\programs\\python\\python36\\lib\\site-packages\\ipykernel_launcher.py:10: UserWarning: Update your `Conv2D` call to the Keras 2 API: `Conv2D(180, kernel_size=5, padding=\"same\")`\n",
      "  # Remove the CWD from sys.path while we load stuff.\n"
     ]
    },
    {
     "name": "stdout",
     "output_type": "stream",
     "text": [
      "_________________________________________________________________\n",
      "Layer (type)                 Output Shape              Param #   \n",
      "=================================================================\n",
      "conv2d_22 (Conv2D)           (None, 64, 64, 60)        3000      \n",
      "_________________________________________________________________\n",
      "activation_49 (Activation)   (None, 64, 64, 60)        0         \n",
      "_________________________________________________________________\n",
      "max_pooling2d_22 (MaxPooling (None, 32, 32, 60)        0         \n",
      "_________________________________________________________________\n",
      "dropout_29 (Dropout)         (None, 32, 32, 60)        0         \n",
      "_________________________________________________________________\n",
      "conv2d_23 (Conv2D)           (None, 32, 32, 180)       270180    \n",
      "_________________________________________________________________\n",
      "activation_50 (Activation)   (None, 32, 32, 180)       0         \n",
      "_________________________________________________________________\n",
      "max_pooling2d_23 (MaxPooling (None, 16, 16, 180)       0         \n",
      "_________________________________________________________________\n",
      "dropout_30 (Dropout)         (None, 16, 16, 180)       0         \n",
      "_________________________________________________________________\n",
      "flatten_14 (Flatten)         (None, 46080)             0         \n",
      "_________________________________________________________________\n",
      "dense_28 (Dense)             (None, 500)               23040500  \n",
      "_________________________________________________________________\n",
      "activation_51 (Activation)   (None, 500)               0         \n",
      "_________________________________________________________________\n",
      "dropout_31 (Dropout)         (None, 500)               0         \n",
      "_________________________________________________________________\n",
      "dense_29 (Dense)             (None, 361)               180861    \n",
      "_________________________________________________________________\n",
      "activation_52 (Activation)   (None, 361)               0         \n",
      "=================================================================\n",
      "Total params: 23,494,541\n",
      "Trainable params: 23,494,541\n",
      "Non-trainable params: 0\n",
      "_________________________________________________________________\n",
      "Train on 26204 samples, validate on 6552 samples\n",
      "Epoch 1/20\n",
      "26204/26204 [==============================] - 1793s 68ms/step - loss: 0.0028 - acc: 0.0033 - val_loss: 0.0028 - val_acc: 0.0032\n",
      "Epoch 2/20\n",
      "26204/26204 [==============================] - 1756s 67ms/step - loss: 0.0028 - acc: 0.0026 - val_loss: 0.0028 - val_acc: 0.0044\n",
      "Epoch 3/20\n",
      " 6600/26204 [======>.......................] - ETA: 20:22 - loss: 0.0028 - acc: 0.0036"
     ]
    }
   ],
   "source": [
    "model = LeNet.build(input_shape = INPUT_SHAPE, classes = NB_CLASSES)\n",
    "\n",
    "model.compile(loss = 'mean_squared_error', optimizer = OPTIMIZER\n",
    "              , metrics = [\"accuracy\"])\n",
    "\n",
    "history = model.fit(X_train, Y_train, batch_size = BATCH_SIZE, epochs = NB_EPOCH, verbose = VERBOSE, \n",
    "                    validation_split = VALIDATION_SPLIT)\n",
    "\n",
    "score = model.evaluate(X_test, Y_test, batch_size = BATCH_SIZE, verbose = VERBOSE)\n",
    "print(\"Test score: \", score[0])\n",
    "print(\"Test accuracy: \", score[1])\n",
    "print(history.history.keys())\n",
    "\n",
    "plt.plot(history.history['acc'])\n",
    "plt.plot(history.history['val_acc'])\n",
    "plt.title('model accuracy')\n",
    "plt.ylabel('accuracy')\n",
    "plt.xlabel('epoch')\n",
    "plt.legend(['train', 'test'], loc = 'upper left')\n",
    "plt.show()\n",
    "\n",
    "plt.plot(history.history['loss'])\n",
    "plt.plot(history.history['val_loss'])\n",
    "plt.title('model loss')\n",
    "plt.ylabel('loss')\n",
    "plt.xlabel('epoch')\n",
    "plt.legend(['train', 'test'], loc = 'upper left')\n",
    "plt.show()"
   ]
  },
  {
   "cell_type": "code",
   "execution_count": null,
   "metadata": {},
   "outputs": [],
   "source": []
  }
 ],
 "metadata": {
  "kernelspec": {
   "display_name": "Python 3",
   "language": "python",
   "name": "python3"
  },
  "language_info": {
   "codemirror_mode": {
    "name": "ipython",
    "version": 3
   },
   "file_extension": ".py",
   "mimetype": "text/x-python",
   "name": "python",
   "nbconvert_exporter": "python",
   "pygments_lexer": "ipython3",
   "version": "3.6.5"
  }
 },
 "nbformat": 4,
 "nbformat_minor": 2
}
